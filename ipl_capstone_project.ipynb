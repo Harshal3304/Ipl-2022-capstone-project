{
 "cells": [
  {
   "cell_type": "markdown",
   "id": "53e13b11",
   "metadata": {},
   "source": [
    "Loading the libraries and Dataset"
   ]
  },
  {
   "cell_type": "code",
   "execution_count": 1,
   "id": "6ff3fce2",
   "metadata": {},
   "outputs": [
    {
     "data": {
      "application/vnd.microsoft.datawrangler.viewer.v0+json": {
       "columns": [
        {
         "name": "index",
         "rawType": "int64",
         "type": "integer"
        },
        {
         "name": "match_id",
         "rawType": "int64",
         "type": "integer"
        },
        {
         "name": "date",
         "rawType": "object",
         "type": "string"
        },
        {
         "name": "venue",
         "rawType": "object",
         "type": "string"
        },
        {
         "name": "team1",
         "rawType": "object",
         "type": "string"
        },
        {
         "name": "team2",
         "rawType": "object",
         "type": "string"
        },
        {
         "name": "stage",
         "rawType": "object",
         "type": "string"
        },
        {
         "name": "toss_winner",
         "rawType": "object",
         "type": "string"
        },
        {
         "name": "toss_decision",
         "rawType": "object",
         "type": "string"
        },
        {
         "name": "first_ings_score",
         "rawType": "int64",
         "type": "integer"
        },
        {
         "name": "first_ings_wkts",
         "rawType": "int64",
         "type": "integer"
        },
        {
         "name": "second_ings_score",
         "rawType": "int64",
         "type": "integer"
        },
        {
         "name": "second_ings_wkts",
         "rawType": "int64",
         "type": "integer"
        },
        {
         "name": "match_winner",
         "rawType": "object",
         "type": "string"
        },
        {
         "name": "won_by",
         "rawType": "object",
         "type": "string"
        },
        {
         "name": "margin",
         "rawType": "int64",
         "type": "integer"
        },
        {
         "name": "player_of_the_match",
         "rawType": "object",
         "type": "string"
        },
        {
         "name": "top_scorer",
         "rawType": "object",
         "type": "string"
        },
        {
         "name": "highscore",
         "rawType": "int64",
         "type": "integer"
        },
        {
         "name": "best_bowling",
         "rawType": "object",
         "type": "string"
        },
        {
         "name": "best_bowling_figure",
         "rawType": "object",
         "type": "string"
        }
       ],
       "ref": "609b3478-d846-49a1-903e-7a2d77ab4ce3",
       "rows": [
        [
         "0",
         "1",
         "March 26,2022",
         "Wankhede Stadium, Mumbai",
         "Chennai",
         "Kolkata",
         "Group",
         "Kolkata",
         "Field",
         "131",
         "5",
         "133",
         "4",
         "Kolkata",
         "Wickets",
         "6",
         "Umesh Yadav",
         "MS Dhoni",
         "50",
         "Dwayne Bravo",
         "3--20"
        ],
        [
         "1",
         "2",
         "March 27,2022",
         "Brabourne Stadium, Mumbai",
         "Delhi",
         "Mumbai",
         "Group",
         "Delhi",
         "Field",
         "177",
         "5",
         "179",
         "6",
         "Delhi",
         "Wickets",
         "4",
         "Kuldeep Yadav",
         "Ishan Kishan",
         "81",
         "Kuldeep Yadav",
         "3--18"
        ],
        [
         "2",
         "3",
         "March 27,2022",
         "Dr DY Patil Sports Academy, Mumbai",
         "Banglore",
         "Punjab",
         "Group",
         "Punjab",
         "Field",
         "205",
         "2",
         "208",
         "5",
         "Punjab",
         "Wickets",
         "5",
         "Odean Smith",
         "Faf du Plessis",
         "88",
         "Mohammed Siraj",
         "2--59"
        ],
        [
         "3",
         "4",
         "March 28,2022",
         "Wankhede Stadium, Mumbai",
         "Gujarat",
         "Lucknow",
         "Group",
         "Gujarat",
         "Field",
         "158",
         "6",
         "161",
         "5",
         "Gujarat",
         "Wickets",
         "5",
         "Mohammed Shami",
         "Deepak Hooda",
         "55",
         "Mohammed Shami",
         "3--25"
        ],
        [
         "4",
         "5",
         "March 29,2022",
         "Maharashtra Cricket Association Stadium,Pune",
         "Hyderabad",
         "Rajasthan",
         "Group",
         "Hyderabad",
         "Field",
         "210",
         "6",
         "149",
         "7",
         "Rajasthan",
         "Runs",
         "61",
         "Sanju Samson",
         "Aiden Markram",
         "57",
         "Yuzvendra Chahal",
         "3--22"
        ]
       ],
       "shape": {
        "columns": 20,
        "rows": 5
       }
      },
      "text/html": [
       "<div>\n",
       "<style scoped>\n",
       "    .dataframe tbody tr th:only-of-type {\n",
       "        vertical-align: middle;\n",
       "    }\n",
       "\n",
       "    .dataframe tbody tr th {\n",
       "        vertical-align: top;\n",
       "    }\n",
       "\n",
       "    .dataframe thead th {\n",
       "        text-align: right;\n",
       "    }\n",
       "</style>\n",
       "<table border=\"1\" class=\"dataframe\">\n",
       "  <thead>\n",
       "    <tr style=\"text-align: right;\">\n",
       "      <th></th>\n",
       "      <th>match_id</th>\n",
       "      <th>date</th>\n",
       "      <th>venue</th>\n",
       "      <th>team1</th>\n",
       "      <th>team2</th>\n",
       "      <th>stage</th>\n",
       "      <th>toss_winner</th>\n",
       "      <th>toss_decision</th>\n",
       "      <th>first_ings_score</th>\n",
       "      <th>first_ings_wkts</th>\n",
       "      <th>second_ings_score</th>\n",
       "      <th>second_ings_wkts</th>\n",
       "      <th>match_winner</th>\n",
       "      <th>won_by</th>\n",
       "      <th>margin</th>\n",
       "      <th>player_of_the_match</th>\n",
       "      <th>top_scorer</th>\n",
       "      <th>highscore</th>\n",
       "      <th>best_bowling</th>\n",
       "      <th>best_bowling_figure</th>\n",
       "    </tr>\n",
       "  </thead>\n",
       "  <tbody>\n",
       "    <tr>\n",
       "      <th>0</th>\n",
       "      <td>1</td>\n",
       "      <td>March 26,2022</td>\n",
       "      <td>Wankhede Stadium, Mumbai</td>\n",
       "      <td>Chennai</td>\n",
       "      <td>Kolkata</td>\n",
       "      <td>Group</td>\n",
       "      <td>Kolkata</td>\n",
       "      <td>Field</td>\n",
       "      <td>131</td>\n",
       "      <td>5</td>\n",
       "      <td>133</td>\n",
       "      <td>4</td>\n",
       "      <td>Kolkata</td>\n",
       "      <td>Wickets</td>\n",
       "      <td>6</td>\n",
       "      <td>Umesh Yadav</td>\n",
       "      <td>MS Dhoni</td>\n",
       "      <td>50</td>\n",
       "      <td>Dwayne Bravo</td>\n",
       "      <td>3--20</td>\n",
       "    </tr>\n",
       "    <tr>\n",
       "      <th>1</th>\n",
       "      <td>2</td>\n",
       "      <td>March 27,2022</td>\n",
       "      <td>Brabourne Stadium, Mumbai</td>\n",
       "      <td>Delhi</td>\n",
       "      <td>Mumbai</td>\n",
       "      <td>Group</td>\n",
       "      <td>Delhi</td>\n",
       "      <td>Field</td>\n",
       "      <td>177</td>\n",
       "      <td>5</td>\n",
       "      <td>179</td>\n",
       "      <td>6</td>\n",
       "      <td>Delhi</td>\n",
       "      <td>Wickets</td>\n",
       "      <td>4</td>\n",
       "      <td>Kuldeep Yadav</td>\n",
       "      <td>Ishan Kishan</td>\n",
       "      <td>81</td>\n",
       "      <td>Kuldeep Yadav</td>\n",
       "      <td>3--18</td>\n",
       "    </tr>\n",
       "    <tr>\n",
       "      <th>2</th>\n",
       "      <td>3</td>\n",
       "      <td>March 27,2022</td>\n",
       "      <td>Dr DY Patil Sports Academy, Mumbai</td>\n",
       "      <td>Banglore</td>\n",
       "      <td>Punjab</td>\n",
       "      <td>Group</td>\n",
       "      <td>Punjab</td>\n",
       "      <td>Field</td>\n",
       "      <td>205</td>\n",
       "      <td>2</td>\n",
       "      <td>208</td>\n",
       "      <td>5</td>\n",
       "      <td>Punjab</td>\n",
       "      <td>Wickets</td>\n",
       "      <td>5</td>\n",
       "      <td>Odean Smith</td>\n",
       "      <td>Faf du Plessis</td>\n",
       "      <td>88</td>\n",
       "      <td>Mohammed Siraj</td>\n",
       "      <td>2--59</td>\n",
       "    </tr>\n",
       "    <tr>\n",
       "      <th>3</th>\n",
       "      <td>4</td>\n",
       "      <td>March 28,2022</td>\n",
       "      <td>Wankhede Stadium, Mumbai</td>\n",
       "      <td>Gujarat</td>\n",
       "      <td>Lucknow</td>\n",
       "      <td>Group</td>\n",
       "      <td>Gujarat</td>\n",
       "      <td>Field</td>\n",
       "      <td>158</td>\n",
       "      <td>6</td>\n",
       "      <td>161</td>\n",
       "      <td>5</td>\n",
       "      <td>Gujarat</td>\n",
       "      <td>Wickets</td>\n",
       "      <td>5</td>\n",
       "      <td>Mohammed Shami</td>\n",
       "      <td>Deepak Hooda</td>\n",
       "      <td>55</td>\n",
       "      <td>Mohammed Shami</td>\n",
       "      <td>3--25</td>\n",
       "    </tr>\n",
       "    <tr>\n",
       "      <th>4</th>\n",
       "      <td>5</td>\n",
       "      <td>March 29,2022</td>\n",
       "      <td>Maharashtra Cricket Association Stadium,Pune</td>\n",
       "      <td>Hyderabad</td>\n",
       "      <td>Rajasthan</td>\n",
       "      <td>Group</td>\n",
       "      <td>Hyderabad</td>\n",
       "      <td>Field</td>\n",
       "      <td>210</td>\n",
       "      <td>6</td>\n",
       "      <td>149</td>\n",
       "      <td>7</td>\n",
       "      <td>Rajasthan</td>\n",
       "      <td>Runs</td>\n",
       "      <td>61</td>\n",
       "      <td>Sanju Samson</td>\n",
       "      <td>Aiden Markram</td>\n",
       "      <td>57</td>\n",
       "      <td>Yuzvendra Chahal</td>\n",
       "      <td>3--22</td>\n",
       "    </tr>\n",
       "  </tbody>\n",
       "</table>\n",
       "</div>"
      ],
      "text/plain": [
       "   match_id           date                                         venue  \\\n",
       "0         1  March 26,2022                      Wankhede Stadium, Mumbai   \n",
       "1         2  March 27,2022                     Brabourne Stadium, Mumbai   \n",
       "2         3  March 27,2022            Dr DY Patil Sports Academy, Mumbai   \n",
       "3         4  March 28,2022                      Wankhede Stadium, Mumbai   \n",
       "4         5  March 29,2022  Maharashtra Cricket Association Stadium,Pune   \n",
       "\n",
       "       team1      team2  stage toss_winner toss_decision  first_ings_score  \\\n",
       "0    Chennai    Kolkata  Group     Kolkata         Field               131   \n",
       "1      Delhi     Mumbai  Group       Delhi         Field               177   \n",
       "2   Banglore     Punjab  Group      Punjab         Field               205   \n",
       "3    Gujarat    Lucknow  Group     Gujarat         Field               158   \n",
       "4  Hyderabad  Rajasthan  Group   Hyderabad         Field               210   \n",
       "\n",
       "   first_ings_wkts  second_ings_score  second_ings_wkts match_winner   won_by  \\\n",
       "0                5                133                 4      Kolkata  Wickets   \n",
       "1                5                179                 6        Delhi  Wickets   \n",
       "2                2                208                 5       Punjab  Wickets   \n",
       "3                6                161                 5      Gujarat  Wickets   \n",
       "4                6                149                 7    Rajasthan     Runs   \n",
       "\n",
       "   margin player_of_the_match      top_scorer  highscore      best_bowling  \\\n",
       "0       6         Umesh Yadav        MS Dhoni         50      Dwayne Bravo   \n",
       "1       4       Kuldeep Yadav    Ishan Kishan         81     Kuldeep Yadav   \n",
       "2       5         Odean Smith  Faf du Plessis         88    Mohammed Siraj   \n",
       "3       5      Mohammed Shami    Deepak Hooda         55    Mohammed Shami   \n",
       "4      61        Sanju Samson   Aiden Markram         57  Yuzvendra Chahal   \n",
       "\n",
       "  best_bowling_figure  \n",
       "0               3--20  \n",
       "1               3--18  \n",
       "2               2--59  \n",
       "3               3--25  \n",
       "4               3--22  "
      ]
     },
     "execution_count": 1,
     "metadata": {},
     "output_type": "execute_result"
    }
   ],
   "source": [
    "import pandas as pd \n",
    "import numpy as np \n",
    "import matplotlib.pyplot as plt \n",
    "import seaborn as sns \n",
    "import warnings\n",
    "warnings.filterwarnings(\"ignore\")\n",
    "\n",
    "df =pd.read_csv('IPL.csv')\n",
    "df.head()\n"
   ]
  },
  {
   "cell_type": "markdown",
   "id": "af9bf729",
   "metadata": {},
   "source": [
    "Basic Information"
   ]
  },
  {
   "cell_type": "code",
   "execution_count": 2,
   "id": "c7fa235d",
   "metadata": {},
   "outputs": [
    {
     "name": "stdout",
     "output_type": "stream",
     "text": [
      "<class 'pandas.core.frame.DataFrame'>\n",
      "RangeIndex: 74 entries, 0 to 73\n",
      "Data columns (total 20 columns):\n",
      " #   Column               Non-Null Count  Dtype \n",
      "---  ------               --------------  ----- \n",
      " 0   match_id             74 non-null     int64 \n",
      " 1   date                 74 non-null     object\n",
      " 2   venue                74 non-null     object\n",
      " 3   team1                74 non-null     object\n",
      " 4   team2                74 non-null     object\n",
      " 5   stage                74 non-null     object\n",
      " 6   toss_winner          74 non-null     object\n",
      " 7   toss_decision        74 non-null     object\n",
      " 8   first_ings_score     74 non-null     int64 \n",
      " 9   first_ings_wkts      74 non-null     int64 \n",
      " 10  second_ings_score    74 non-null     int64 \n",
      " 11  second_ings_wkts     74 non-null     int64 \n",
      " 12  match_winner         74 non-null     object\n",
      " 13  won_by               74 non-null     object\n",
      " 14  margin               74 non-null     int64 \n",
      " 15  player_of_the_match  74 non-null     object\n",
      " 16  top_scorer           74 non-null     object\n",
      " 17  highscore            74 non-null     int64 \n",
      " 18  best_bowling         74 non-null     object\n",
      " 19  best_bowling_figure  74 non-null     object\n",
      "dtypes: int64(7), object(13)\n",
      "memory usage: 11.7+ KB\n"
     ]
    }
   ],
   "source": [
    "df.info()"
   ]
  },
  {
   "cell_type": "code",
   "execution_count": 3,
   "id": "02bd7722",
   "metadata": {},
   "outputs": [
    {
     "data": {
      "text/plain": [
       "(74, 20)"
      ]
     },
     "execution_count": 3,
     "metadata": {},
     "output_type": "execute_result"
    }
   ],
   "source": [
    "df.shape"
   ]
  },
  {
   "cell_type": "code",
   "execution_count": 4,
   "id": "6d282240",
   "metadata": {},
   "outputs": [
    {
     "data": {
      "application/vnd.microsoft.datawrangler.viewer.v0+json": {
       "columns": [
        {
         "name": "index",
         "rawType": "object",
         "type": "string"
        },
        {
         "name": "0",
         "rawType": "int64",
         "type": "integer"
        }
       ],
       "ref": "3e7b4ec5-b4e1-4aa2-9144-e349f79a0b10",
       "rows": [
        [
         "match_id",
         "0"
        ],
        [
         "date",
         "0"
        ],
        [
         "venue",
         "0"
        ],
        [
         "team1",
         "0"
        ],
        [
         "team2",
         "0"
        ],
        [
         "stage",
         "0"
        ],
        [
         "toss_winner",
         "0"
        ],
        [
         "toss_decision",
         "0"
        ],
        [
         "first_ings_score",
         "0"
        ],
        [
         "first_ings_wkts",
         "0"
        ],
        [
         "second_ings_score",
         "0"
        ],
        [
         "second_ings_wkts",
         "0"
        ],
        [
         "match_winner",
         "0"
        ],
        [
         "won_by",
         "0"
        ],
        [
         "margin",
         "0"
        ],
        [
         "player_of_the_match",
         "0"
        ],
        [
         "top_scorer",
         "0"
        ],
        [
         "highscore",
         "0"
        ],
        [
         "best_bowling",
         "0"
        ],
        [
         "best_bowling_figure",
         "0"
        ]
       ],
       "shape": {
        "columns": 1,
        "rows": 20
       }
      },
      "text/plain": [
       "match_id               0\n",
       "date                   0\n",
       "venue                  0\n",
       "team1                  0\n",
       "team2                  0\n",
       "stage                  0\n",
       "toss_winner            0\n",
       "toss_decision          0\n",
       "first_ings_score       0\n",
       "first_ings_wkts        0\n",
       "second_ings_score      0\n",
       "second_ings_wkts       0\n",
       "match_winner           0\n",
       "won_by                 0\n",
       "margin                 0\n",
       "player_of_the_match    0\n",
       "top_scorer             0\n",
       "highscore              0\n",
       "best_bowling           0\n",
       "best_bowling_figure    0\n",
       "dtype: int64"
      ]
     },
     "execution_count": 4,
     "metadata": {},
     "output_type": "execute_result"
    }
   ],
   "source": [
    "df.isnull().sum()"
   ]
  },
  {
   "cell_type": "markdown",
   "id": "c89745cb",
   "metadata": {},
   "source": [
    "basic questions"
   ]
  },
  {
   "cell_type": "code",
   "execution_count": 5,
   "id": "bfa4fa51",
   "metadata": {},
   "outputs": [
    {
     "data": {
      "application/vnd.microsoft.datawrangler.viewer.v0+json": {
       "columns": [
        {
         "name": "match_winner",
         "rawType": "object",
         "type": "string"
        },
        {
         "name": "count",
         "rawType": "int64",
         "type": "integer"
        }
       ],
       "ref": "e977cfdf-2f17-46e2-b51a-e162d1d517f3",
       "rows": [
        [
         "Gujarat",
         "12"
        ],
        [
         "Rajasthan",
         "10"
        ],
        [
         "Banglore",
         "9"
        ],
        [
         "Lucknow",
         "9"
        ],
        [
         "Delhi",
         "7"
        ],
        [
         "Punjab",
         "7"
        ],
        [
         "Kolkata",
         "6"
        ],
        [
         "Hyderabad",
         "6"
        ],
        [
         "Chennai",
         "4"
        ],
        [
         "Mumbai",
         "4"
        ]
       ],
       "shape": {
        "columns": 1,
        "rows": 10
       }
      },
      "text/plain": [
       "match_winner\n",
       "Gujarat      12\n",
       "Rajasthan    10\n",
       "Banglore      9\n",
       "Lucknow       9\n",
       "Delhi         7\n",
       "Punjab        7\n",
       "Kolkata       6\n",
       "Hyderabad     6\n",
       "Chennai       4\n",
       "Mumbai        4\n",
       "Name: count, dtype: int64"
      ]
     },
     "execution_count": 5,
     "metadata": {},
     "output_type": "execute_result"
    }
   ],
   "source": [
    "# which team won the most matches?\n",
    "\n",
    "match_wins =df['match_winner'].value_counts()\n",
    "match_wins"
   ]
  },
  {
   "cell_type": "code",
   "execution_count": 6,
   "id": "3ac3e7aa",
   "metadata": {},
   "outputs": [
    {
     "data": {
      "text/plain": [
       "Text(0.5, 1.0, 'Most match win by team')"
      ]
     },
     "execution_count": 6,
     "metadata": {},
     "output_type": "execute_result"
    },
    {
     "data": {
      "image/png": "[encoded data removed]",
      "text/plain": [
       "<Figure size 640x480 with 1 Axes>"
      ]
     },
     "metadata": {},
     "output_type": "display_data"
    }
   ],
   "source": [
    "sns.barplot(y=match_wins.index, x= match_wins.values, palette='viridis')\n",
    "plt.title(\"Most match win by team\")"
   ]
  },
  {
   "cell_type": "code",
   "execution_count": 7,
   "id": "696fbbe4",
   "metadata": {},
   "outputs": [
    {
     "data": {
      "text/plain": [
       "<Axes: xlabel='toss_decision', ylabel='count'>"
      ]
     },
     "execution_count": 7,
     "metadata": {},
     "output_type": "execute_result"
    },
    {
     "data": {
      "image/png": "[encoded data removed]",
      "text/plain": [
       "<Figure size 640x480 with 1 Axes>"
      ]
     },
     "metadata": {},
     "output_type": "display_data"
    }
   ],
   "source": [
    "# Toss decision trends\n",
    "sns.countplot(x=df['toss_decision'],palette='rainbow')"
   ]
  },
  {
   "cell_type": "code",
   "execution_count": 8,
   "id": "f321e651",
   "metadata": {},
   "outputs": [
    {
     "data": {
      "text/plain": [
       "48.65"
      ]
     },
     "execution_count": 8,
     "metadata": {},
     "output_type": "execute_result"
    }
   ],
   "source": [
    "# Toss winner vs Match winner\n",
    "\n",
    "count =df[df['toss_winner']== df['match_winner']]['match_id'].count()\n",
    "total_match = df.shape[0]\n",
    "percentage =(count *100)/total_match\n",
    "percentage.round(2)"
   ]
  },
  {
   "cell_type": "code",
   "execution_count": 9,
   "id": "5c68b40d",
   "metadata": {},
   "outputs": [
    {
     "data": {
      "text/plain": [
       "Text(0.5, 1.0, 'Won by')"
      ]
     },
     "execution_count": 9,
     "metadata": {},
     "output_type": "execute_result"
    },
    {
     "data": {
      "image/png": "[encoded data removed]",
      "text/plain": [
       "<Figure size 640x480 with 1 Axes>"
      ]
     },
     "metadata": {},
     "output_type": "display_data"
    }
   ],
   "source": [
    "#How do teams win? (Runs vs Wickets)\n",
    "\n",
    "sns.countplot(x=df['won_by'])\n",
    "plt.title(\"Won by\")"
   ]
  },
  {
   "cell_type": "markdown",
   "id": "69a76250",
   "metadata": {},
   "source": [
    "Key Player Performance"
   ]
  },
  {
   "cell_type": "code",
   "execution_count": 10,
   "id": "02479c52",
   "metadata": {},
   "outputs": [
    {
     "data": {
      "application/vnd.microsoft.datawrangler.viewer.v0+json": {
       "columns": [
        {
         "name": "player_of_the_match",
         "rawType": "object",
         "type": "string"
        },
        {
         "name": "count",
         "rawType": "int64",
         "type": "integer"
        }
       ],
       "ref": "92bba0fa-013b-4b32-adb0-182c9bd19755",
       "rows": [
        [
         "Kuldeep Yadav",
         "4"
        ],
        [
         "Jos Buttler",
         "3"
        ],
        [
         "Umesh Yadav",
         "2"
        ],
        [
         "Quinton de Kock",
         "2"
        ],
        [
         "David Miller",
         "2"
        ],
        [
         "Umran Malik",
         "2"
        ],
        [
         "K L Rahul",
         "2"
        ],
        [
         "Rahul Tripathi",
         "2"
        ],
        [
         "Hardik Pandya",
         "2"
        ],
        [
         "Jasprit Bumrah",
         "2"
        ]
       ],
       "shape": {
        "columns": 1,
        "rows": 10
       }
      },
      "text/plain": [
       "player_of_the_match\n",
       "Kuldeep Yadav      4\n",
       "Jos Buttler        3\n",
       "Umesh Yadav        2\n",
       "Quinton de Kock    2\n",
       "David Miller       2\n",
       "Umran Malik        2\n",
       "K L Rahul          2\n",
       "Rahul Tripathi     2\n",
       "Hardik Pandya      2\n",
       "Jasprit Bumrah     2\n",
       "Name: count, dtype: int64"
      ]
     },
     "execution_count": 10,
     "metadata": {},
     "output_type": "execute_result"
    }
   ],
   "source": [
    "# Most \"Player of the Match\" Awards\n",
    "count=df['player_of_the_match'].value_counts().head(10)\n",
    "count"
   ]
  },
  {
   "cell_type": "code",
   "execution_count": 11,
   "id": "e52de442",
   "metadata": {},
   "outputs": [
    {
     "data": {
      "text/plain": [
       "Text(0.5, 1.0, 'Top 1= players with man most man of the match')"
      ]
     },
     "execution_count": 11,
     "metadata": {},
     "output_type": "execute_result"
    },
    {
     "data": {
      "image/png": "[encoded data removed]",
      "text/plain": [
       "<Figure size 640x480 with 1 Axes>"
      ]
     },
     "metadata": {},
     "output_type": "display_data"
    }
   ],
   "source": [
    "sns.barplot(x=count.values, y=count.index,palette='mako')\n",
    "plt.title(\"Top 1= players with man most man of the match\")"
   ]
  },
  {
   "cell_type": "code",
   "execution_count": 12,
   "id": "d89b066f",
   "metadata": {},
   "outputs": [
    {
     "data": {
      "application/vnd.microsoft.datawrangler.viewer.v0+json": {
       "columns": [
        {
         "name": "index",
         "rawType": "int64",
         "type": "integer"
        },
        {
         "name": "match_id",
         "rawType": "int64",
         "type": "integer"
        },
        {
         "name": "date",
         "rawType": "object",
         "type": "string"
        },
        {
         "name": "venue",
         "rawType": "object",
         "type": "string"
        },
        {
         "name": "team1",
         "rawType": "object",
         "type": "string"
        },
        {
         "name": "team2",
         "rawType": "object",
         "type": "string"
        },
        {
         "name": "stage",
         "rawType": "object",
         "type": "string"
        },
        {
         "name": "toss_winner",
         "rawType": "object",
         "type": "string"
        },
        {
         "name": "toss_decision",
         "rawType": "object",
         "type": "string"
        },
        {
         "name": "first_ings_score",
         "rawType": "int64",
         "type": "integer"
        },
        {
         "name": "first_ings_wkts",
         "rawType": "int64",
         "type": "integer"
        },
        {
         "name": "second_ings_score",
         "rawType": "int64",
         "type": "integer"
        },
        {
         "name": "second_ings_wkts",
         "rawType": "int64",
         "type": "integer"
        },
        {
         "name": "match_winner",
         "rawType": "object",
         "type": "string"
        },
        {
         "name": "won_by",
         "rawType": "object",
         "type": "string"
        },
        {
         "name": "margin",
         "rawType": "int64",
         "type": "integer"
        },
        {
         "name": "player_of_the_match",
         "rawType": "object",
         "type": "string"
        },
        {
         "name": "top_scorer",
         "rawType": "object",
         "type": "string"
        },
        {
         "name": "highscore",
         "rawType": "int64",
         "type": "integer"
        },
        {
         "name": "best_bowling",
         "rawType": "object",
         "type": "string"
        },
        {
         "name": "best_bowling_figure",
         "rawType": "object",
         "type": "string"
        }
       ],
       "ref": "8654e26e-6ecf-4654-9f50-ae219793ab2d",
       "rows": [
        [
         "0",
         "1",
         "March 26,2022",
         "Wankhede Stadium, Mumbai",
         "Chennai",
         "Kolkata",
         "Group",
         "Kolkata",
         "Field",
         "131",
         "5",
         "133",
         "4",
         "Kolkata",
         "Wickets",
         "6",
         "Umesh Yadav",
         "MS Dhoni",
         "50",
         "Dwayne Bravo",
         "3--20"
        ],
        [
         "1",
         "2",
         "March 27,2022",
         "Brabourne Stadium, Mumbai",
         "Delhi",
         "Mumbai",
         "Group",
         "Delhi",
         "Field",
         "177",
         "5",
         "179",
         "6",
         "Delhi",
         "Wickets",
         "4",
         "Kuldeep Yadav",
         "Ishan Kishan",
         "81",
         "Kuldeep Yadav",
         "3--18"
        ],
        [
         "2",
         "3",
         "March 27,2022",
         "Dr DY Patil Sports Academy, Mumbai",
         "Banglore",
         "Punjab",
         "Group",
         "Punjab",
         "Field",
         "205",
         "2",
         "208",
         "5",
         "Punjab",
         "Wickets",
         "5",
         "Odean Smith",
         "Faf du Plessis",
         "88",
         "Mohammed Siraj",
         "2--59"
        ],
        [
         "3",
         "4",
         "March 28,2022",
         "Wankhede Stadium, Mumbai",
         "Gujarat",
         "Lucknow",
         "Group",
         "Gujarat",
         "Field",
         "158",
         "6",
         "161",
         "5",
         "Gujarat",
         "Wickets",
         "5",
         "Mohammed Shami",
         "Deepak Hooda",
         "55",
         "Mohammed Shami",
         "3--25"
        ],
        [
         "4",
         "5",
         "March 29,2022",
         "Maharashtra Cricket Association Stadium,Pune",
         "Hyderabad",
         "Rajasthan",
         "Group",
         "Hyderabad",
         "Field",
         "210",
         "6",
         "149",
         "7",
         "Rajasthan",
         "Runs",
         "61",
         "Sanju Samson",
         "Aiden Markram",
         "57",
         "Yuzvendra Chahal",
         "3--22"
        ]
       ],
       "shape": {
        "columns": 20,
        "rows": 5
       }
      },
      "text/html": [
       "<div>\n",
       "<style scoped>\n",
       "    .dataframe tbody tr th:only-of-type {\n",
       "        vertical-align: middle;\n",
       "    }\n",
       "\n",
       "    .dataframe tbody tr th {\n",
       "        vertical-align: top;\n",
       "    }\n",
       "\n",
       "    .dataframe thead th {\n",
       "        text-align: right;\n",
       "    }\n",
       "</style>\n",
       "<table border=\"1\" class=\"dataframe\">\n",
       "  <thead>\n",
       "    <tr style=\"text-align: right;\">\n",
       "      <th></th>\n",
       "      <th>match_id</th>\n",
       "      <th>date</th>\n",
       "      <th>venue</th>\n",
       "      <th>team1</th>\n",
       "      <th>team2</th>\n",
       "      <th>stage</th>\n",
       "      <th>toss_winner</th>\n",
       "      <th>toss_decision</th>\n",
       "      <th>first_ings_score</th>\n",
       "      <th>first_ings_wkts</th>\n",
       "      <th>second_ings_score</th>\n",
       "      <th>second_ings_wkts</th>\n",
       "      <th>match_winner</th>\n",
       "      <th>won_by</th>\n",
       "      <th>margin</th>\n",
       "      <th>player_of_the_match</th>\n",
       "      <th>top_scorer</th>\n",
       "      <th>highscore</th>\n",
       "      <th>best_bowling</th>\n",
       "      <th>best_bowling_figure</th>\n",
       "    </tr>\n",
       "  </thead>\n",
       "  <tbody>\n",
       "    <tr>\n",
       "      <th>0</th>\n",
       "      <td>1</td>\n",
       "      <td>March 26,2022</td>\n",
       "      <td>Wankhede Stadium, Mumbai</td>\n",
       "      <td>Chennai</td>\n",
       "      <td>Kolkata</td>\n",
       "      <td>Group</td>\n",
       "      <td>Kolkata</td>\n",
       "      <td>Field</td>\n",
       "      <td>131</td>\n",
       "      <td>5</td>\n",
       "      <td>133</td>\n",
       "      <td>4</td>\n",
       "      <td>Kolkata</td>\n",
       "      <td>Wickets</td>\n",
       "      <td>6</td>\n",
       "      <td>Umesh Yadav</td>\n",
       "      <td>MS Dhoni</td>\n",
       "      <td>50</td>\n",
       "      <td>Dwayne Bravo</td>\n",
       "      <td>3--20</td>\n",
       "    </tr>\n",
       "    <tr>\n",
       "      <th>1</th>\n",
       "      <td>2</td>\n",
       "      <td>March 27,2022</td>\n",
       "      <td>Brabourne Stadium, Mumbai</td>\n",
       "      <td>Delhi</td>\n",
       "      <td>Mumbai</td>\n",
       "      <td>Group</td>\n",
       "      <td>Delhi</td>\n",
       "      <td>Field</td>\n",
       "      <td>177</td>\n",
       "      <td>5</td>\n",
       "      <td>179</td>\n",
       "      <td>6</td>\n",
       "      <td>Delhi</td>\n",
       "      <td>Wickets</td>\n",
       "      <td>4</td>\n",
       "      <td>Kuldeep Yadav</td>\n",
       "      <td>Ishan Kishan</td>\n",
       "      <td>81</td>\n",
       "      <td>Kuldeep Yadav</td>\n",
       "      <td>3--18</td>\n",
       "    </tr>\n",
       "    <tr>\n",
       "      <th>2</th>\n",
       "      <td>3</td>\n",
       "      <td>March 27,2022</td>\n",
       "      <td>Dr DY Patil Sports Academy, Mumbai</td>\n",
       "      <td>Banglore</td>\n",
       "      <td>Punjab</td>\n",
       "      <td>Group</td>\n",
       "      <td>Punjab</td>\n",
       "      <td>Field</td>\n",
       "      <td>205</td>\n",
       "      <td>2</td>\n",
       "      <td>208</td>\n",
       "      <td>5</td>\n",
       "      <td>Punjab</td>\n",
       "      <td>Wickets</td>\n",
       "      <td>5</td>\n",
       "      <td>Odean Smith</td>\n",
       "      <td>Faf du Plessis</td>\n",
       "      <td>88</td>\n",
       "      <td>Mohammed Siraj</td>\n",
       "      <td>2--59</td>\n",
       "    </tr>\n",
       "    <tr>\n",
       "      <th>3</th>\n",
       "      <td>4</td>\n",
       "      <td>March 28,2022</td>\n",
       "      <td>Wankhede Stadium, Mumbai</td>\n",
       "      <td>Gujarat</td>\n",
       "      <td>Lucknow</td>\n",
       "      <td>Group</td>\n",
       "      <td>Gujarat</td>\n",
       "      <td>Field</td>\n",
       "      <td>158</td>\n",
       "      <td>6</td>\n",
       "      <td>161</td>\n",
       "      <td>5</td>\n",
       "      <td>Gujarat</td>\n",
       "      <td>Wickets</td>\n",
       "      <td>5</td>\n",
       "      <td>Mohammed Shami</td>\n",
       "      <td>Deepak Hooda</td>\n",
       "      <td>55</td>\n",
       "      <td>Mohammed Shami</td>\n",
       "      <td>3--25</td>\n",
       "    </tr>\n",
       "    <tr>\n",
       "      <th>4</th>\n",
       "      <td>5</td>\n",
       "      <td>March 29,2022</td>\n",
       "      <td>Maharashtra Cricket Association Stadium,Pune</td>\n",
       "      <td>Hyderabad</td>\n",
       "      <td>Rajasthan</td>\n",
       "      <td>Group</td>\n",
       "      <td>Hyderabad</td>\n",
       "      <td>Field</td>\n",
       "      <td>210</td>\n",
       "      <td>6</td>\n",
       "      <td>149</td>\n",
       "      <td>7</td>\n",
       "      <td>Rajasthan</td>\n",
       "      <td>Runs</td>\n",
       "      <td>61</td>\n",
       "      <td>Sanju Samson</td>\n",
       "      <td>Aiden Markram</td>\n",
       "      <td>57</td>\n",
       "      <td>Yuzvendra Chahal</td>\n",
       "      <td>3--22</td>\n",
       "    </tr>\n",
       "  </tbody>\n",
       "</table>\n",
       "</div>"
      ],
      "text/plain": [
       "   match_id           date                                         venue  \\\n",
       "0         1  March 26,2022                      Wankhede Stadium, Mumbai   \n",
       "1         2  March 27,2022                     Brabourne Stadium, Mumbai   \n",
       "2         3  March 27,2022            Dr DY Patil Sports Academy, Mumbai   \n",
       "3         4  March 28,2022                      Wankhede Stadium, Mumbai   \n",
       "4         5  March 29,2022  Maharashtra Cricket Association Stadium,Pune   \n",
       "\n",
       "       team1      team2  stage toss_winner toss_decision  first_ings_score  \\\n",
       "0    Chennai    Kolkata  Group     Kolkata         Field               131   \n",
       "1      Delhi     Mumbai  Group       Delhi         Field               177   \n",
       "2   Banglore     Punjab  Group      Punjab         Field               205   \n",
       "3    Gujarat    Lucknow  Group     Gujarat         Field               158   \n",
       "4  Hyderabad  Rajasthan  Group   Hyderabad         Field               210   \n",
       "\n",
       "   first_ings_wkts  second_ings_score  second_ings_wkts match_winner   won_by  \\\n",
       "0                5                133                 4      Kolkata  Wickets   \n",
       "1                5                179                 6        Delhi  Wickets   \n",
       "2                2                208                 5       Punjab  Wickets   \n",
       "3                6                161                 5      Gujarat  Wickets   \n",
       "4                6                149                 7    Rajasthan     Runs   \n",
       "\n",
       "   margin player_of_the_match      top_scorer  highscore      best_bowling  \\\n",
       "0       6         Umesh Yadav        MS Dhoni         50      Dwayne Bravo   \n",
       "1       4       Kuldeep Yadav    Ishan Kishan         81     Kuldeep Yadav   \n",
       "2       5         Odean Smith  Faf du Plessis         88    Mohammed Siraj   \n",
       "3       5      Mohammed Shami    Deepak Hooda         55    Mohammed Shami   \n",
       "4      61        Sanju Samson   Aiden Markram         57  Yuzvendra Chahal   \n",
       "\n",
       "  best_bowling_figure  \n",
       "0               3--20  \n",
       "1               3--18  \n",
       "2               2--59  \n",
       "3               3--25  \n",
       "4               3--22  "
      ]
     },
     "execution_count": 12,
     "metadata": {},
     "output_type": "execute_result"
    }
   ],
   "source": [
    "# top scorers\n",
    "\n",
    "df.head()"
   ]
  },
  {
   "cell_type": "code",
   "execution_count": 13,
   "id": "65961cc7",
   "metadata": {},
   "outputs": [
    {
     "name": "stdout",
     "output_type": "stream",
     "text": [
      "         top_scorer  highscore\n",
      "65  Quinton de Kock        140\n",
      "33      Jos Buttler        116\n",
      "71    Rajat Patidar        112\n",
      "72      Jos Buttler        106\n",
      "25         KL Rahul        103\n",
      "29      Jos Buttler        103\n",
      "36         KL Rahul        103\n",
      "8       Jos Buttler        100\n"
     ]
    }
   ],
   "source": [
    "century_count = df[df['highscore']>=100][['top_scorer','highscore']].sort_values(by='highscore',ascending=False)\n",
    "print(century_count)"
   ]
  },
  {
   "cell_type": "code",
   "execution_count": 15,
   "id": "e4a79869",
   "metadata": {},
   "outputs": [
    {
     "data": {
      "application/vnd.microsoft.datawrangler.viewer.v0+json": {
       "columns": [
        {
         "name": "top_scorer",
         "rawType": "object",
         "type": "string"
        },
        {
         "name": "highscore",
         "rawType": "int64",
         "type": "integer"
        }
       ],
       "ref": "6e080983-5f41-4cb0-9523-fa34c05ab344",
       "rows": [
        [
         "Jos Buttler",
         "651"
        ],
        [
         "Quinton de Kock",
         "377"
        ]
       ],
       "shape": {
        "columns": 1,
        "rows": 2
       }
      },
      "text/plain": [
       "top_scorer\n",
       "Jos Buttler        651\n",
       "Quinton de Kock    377\n",
       "Name: highscore, dtype: int64"
      ]
     },
     "execution_count": 15,
     "metadata": {},
     "output_type": "execute_result"
    }
   ],
   "source": [
    "high = df.groupby('top_scorer')['highscore'].sum().sort_values(ascending=False).head(2)\n",
    "high"
   ]
  },
  {
   "cell_type": "code",
   "execution_count": 16,
   "id": "5aebe78c",
   "metadata": {},
   "outputs": [
    {
     "data": {
      "text/plain": [
       "<Axes: ylabel='top_scorer'>"
      ]
     },
     "execution_count": 16,
     "metadata": {},
     "output_type": "execute_result"
    },
    {
     "data": {
      "image/png": "[encoded data removed]",
      "text/plain": [
       "<Figure size 640x480 with 1 Axes>"
      ]
     },
     "metadata": {},
     "output_type": "display_data"
    }
   ],
   "source": [
    "high.plot(kind='barh')"
   ]
  },
  {
   "cell_type": "code",
   "execution_count": 17,
   "id": "38702970",
   "metadata": {},
   "outputs": [
    {
     "data": {
      "application/vnd.microsoft.datawrangler.viewer.v0+json": {
       "columns": [
        {
         "name": "index",
         "rawType": "int64",
         "type": "integer"
        },
        {
         "name": "match_id",
         "rawType": "int64",
         "type": "integer"
        },
        {
         "name": "date",
         "rawType": "object",
         "type": "string"
        },
        {
         "name": "venue",
         "rawType": "object",
         "type": "string"
        },
        {
         "name": "team1",
         "rawType": "object",
         "type": "string"
        },
        {
         "name": "team2",
         "rawType": "object",
         "type": "string"
        },
        {
         "name": "stage",
         "rawType": "object",
         "type": "string"
        },
        {
         "name": "toss_winner",
         "rawType": "object",
         "type": "string"
        },
        {
         "name": "toss_decision",
         "rawType": "object",
         "type": "string"
        },
        {
         "name": "first_ings_score",
         "rawType": "int64",
         "type": "integer"
        },
        {
         "name": "first_ings_wkts",
         "rawType": "int64",
         "type": "integer"
        },
        {
         "name": "second_ings_score",
         "rawType": "int64",
         "type": "integer"
        },
        {
         "name": "second_ings_wkts",
         "rawType": "int64",
         "type": "integer"
        },
        {
         "name": "match_winner",
         "rawType": "object",
         "type": "string"
        },
        {
         "name": "won_by",
         "rawType": "object",
         "type": "string"
        },
        {
         "name": "margin",
         "rawType": "int64",
         "type": "integer"
        },
        {
         "name": "player_of_the_match",
         "rawType": "object",
         "type": "string"
        },
        {
         "name": "top_scorer",
         "rawType": "object",
         "type": "string"
        },
        {
         "name": "highscore",
         "rawType": "int64",
         "type": "integer"
        },
        {
         "name": "best_bowling",
         "rawType": "object",
         "type": "string"
        },
        {
         "name": "best_bowling_figure",
         "rawType": "object",
         "type": "string"
        }
       ],
       "ref": "e60fdf61-5899-489a-b7ef-8a237ef86266",
       "rows": [
        [
         "0",
         "1",
         "March 26,2022",
         "Wankhede Stadium, Mumbai",
         "Chennai",
         "Kolkata",
         "Group",
         "Kolkata",
         "Field",
         "131",
         "5",
         "133",
         "4",
         "Kolkata",
         "Wickets",
         "6",
         "Umesh Yadav",
         "MS Dhoni",
         "50",
         "Dwayne Bravo",
         "3--20"
        ],
        [
         "1",
         "2",
         "March 27,2022",
         "Brabourne Stadium, Mumbai",
         "Delhi",
         "Mumbai",
         "Group",
         "Delhi",
         "Field",
         "177",
         "5",
         "179",
         "6",
         "Delhi",
         "Wickets",
         "4",
         "Kuldeep Yadav",
         "Ishan Kishan",
         "81",
         "Kuldeep Yadav",
         "3--18"
        ],
        [
         "2",
         "3",
         "March 27,2022",
         "Dr DY Patil Sports Academy, Mumbai",
         "Banglore",
         "Punjab",
         "Group",
         "Punjab",
         "Field",
         "205",
         "2",
         "208",
         "5",
         "Punjab",
         "Wickets",
         "5",
         "Odean Smith",
         "Faf du Plessis",
         "88",
         "Mohammed Siraj",
         "2--59"
        ],
        [
         "3",
         "4",
         "March 28,2022",
         "Wankhede Stadium, Mumbai",
         "Gujarat",
         "Lucknow",
         "Group",
         "Gujarat",
         "Field",
         "158",
         "6",
         "161",
         "5",
         "Gujarat",
         "Wickets",
         "5",
         "Mohammed Shami",
         "Deepak Hooda",
         "55",
         "Mohammed Shami",
         "3--25"
        ],
        [
         "4",
         "5",
         "March 29,2022",
         "Maharashtra Cricket Association Stadium,Pune",
         "Hyderabad",
         "Rajasthan",
         "Group",
         "Hyderabad",
         "Field",
         "210",
         "6",
         "149",
         "7",
         "Rajasthan",
         "Runs",
         "61",
         "Sanju Samson",
         "Aiden Markram",
         "57",
         "Yuzvendra Chahal",
         "3--22"
        ]
       ],
       "shape": {
        "columns": 20,
        "rows": 5
       }
      },
      "text/html": [
       "<div>\n",
       "<style scoped>\n",
       "    .dataframe tbody tr th:only-of-type {\n",
       "        vertical-align: middle;\n",
       "    }\n",
       "\n",
       "    .dataframe tbody tr th {\n",
       "        vertical-align: top;\n",
       "    }\n",
       "\n",
       "    .dataframe thead th {\n",
       "        text-align: right;\n",
       "    }\n",
       "</style>\n",
       "<table border=\"1\" class=\"dataframe\">\n",
       "  <thead>\n",
       "    <tr style=\"text-align: right;\">\n",
       "      <th></th>\n",
       "      <th>match_id</th>\n",
       "      <th>date</th>\n",
       "      <th>venue</th>\n",
       "      <th>team1</th>\n",
       "      <th>team2</th>\n",
       "      <th>stage</th>\n",
       "      <th>toss_winner</th>\n",
       "      <th>toss_decision</th>\n",
       "      <th>first_ings_score</th>\n",
       "      <th>first_ings_wkts</th>\n",
       "      <th>second_ings_score</th>\n",
       "      <th>second_ings_wkts</th>\n",
       "      <th>match_winner</th>\n",
       "      <th>won_by</th>\n",
       "      <th>margin</th>\n",
       "      <th>player_of_the_match</th>\n",
       "      <th>top_scorer</th>\n",
       "      <th>highscore</th>\n",
       "      <th>best_bowling</th>\n",
       "      <th>best_bowling_figure</th>\n",
       "    </tr>\n",
       "  </thead>\n",
       "  <tbody>\n",
       "    <tr>\n",
       "      <th>0</th>\n",
       "      <td>1</td>\n",
       "      <td>March 26,2022</td>\n",
       "      <td>Wankhede Stadium, Mumbai</td>\n",
       "      <td>Chennai</td>\n",
       "      <td>Kolkata</td>\n",
       "      <td>Group</td>\n",
       "      <td>Kolkata</td>\n",
       "      <td>Field</td>\n",
       "      <td>131</td>\n",
       "      <td>5</td>\n",
       "      <td>133</td>\n",
       "      <td>4</td>\n",
       "      <td>Kolkata</td>\n",
       "      <td>Wickets</td>\n",
       "      <td>6</td>\n",
       "      <td>Umesh Yadav</td>\n",
       "      <td>MS Dhoni</td>\n",
       "      <td>50</td>\n",
       "      <td>Dwayne Bravo</td>\n",
       "      <td>3--20</td>\n",
       "    </tr>\n",
       "    <tr>\n",
       "      <th>1</th>\n",
       "      <td>2</td>\n",
       "      <td>March 27,2022</td>\n",
       "      <td>Brabourne Stadium, Mumbai</td>\n",
       "      <td>Delhi</td>\n",
       "      <td>Mumbai</td>\n",
       "      <td>Group</td>\n",
       "      <td>Delhi</td>\n",
       "      <td>Field</td>\n",
       "      <td>177</td>\n",
       "      <td>5</td>\n",
       "      <td>179</td>\n",
       "      <td>6</td>\n",
       "      <td>Delhi</td>\n",
       "      <td>Wickets</td>\n",
       "      <td>4</td>\n",
       "      <td>Kuldeep Yadav</td>\n",
       "      <td>Ishan Kishan</td>\n",
       "      <td>81</td>\n",
       "      <td>Kuldeep Yadav</td>\n",
       "      <td>3--18</td>\n",
       "    </tr>\n",
       "    <tr>\n",
       "      <th>2</th>\n",
       "      <td>3</td>\n",
       "      <td>March 27,2022</td>\n",
       "      <td>Dr DY Patil Sports Academy, Mumbai</td>\n",
       "      <td>Banglore</td>\n",
       "      <td>Punjab</td>\n",
       "      <td>Group</td>\n",
       "      <td>Punjab</td>\n",
       "      <td>Field</td>\n",
       "      <td>205</td>\n",
       "      <td>2</td>\n",
       "      <td>208</td>\n",
       "      <td>5</td>\n",
       "      <td>Punjab</td>\n",
       "      <td>Wickets</td>\n",
       "      <td>5</td>\n",
       "      <td>Odean Smith</td>\n",
       "      <td>Faf du Plessis</td>\n",
       "      <td>88</td>\n",
       "      <td>Mohammed Siraj</td>\n",
       "      <td>2--59</td>\n",
       "    </tr>\n",
       "    <tr>\n",
       "      <th>3</th>\n",
       "      <td>4</td>\n",
       "      <td>March 28,2022</td>\n",
       "      <td>Wankhede Stadium, Mumbai</td>\n",
       "      <td>Gujarat</td>\n",
       "      <td>Lucknow</td>\n",
       "      <td>Group</td>\n",
       "      <td>Gujarat</td>\n",
       "      <td>Field</td>\n",
       "      <td>158</td>\n",
       "      <td>6</td>\n",
       "      <td>161</td>\n",
       "      <td>5</td>\n",
       "      <td>Gujarat</td>\n",
       "      <td>Wickets</td>\n",
       "      <td>5</td>\n",
       "      <td>Mohammed Shami</td>\n",
       "      <td>Deepak Hooda</td>\n",
       "      <td>55</td>\n",
       "      <td>Mohammed Shami</td>\n",
       "      <td>3--25</td>\n",
       "    </tr>\n",
       "    <tr>\n",
       "      <th>4</th>\n",
       "      <td>5</td>\n",
       "      <td>March 29,2022</td>\n",
       "      <td>Maharashtra Cricket Association Stadium,Pune</td>\n",
       "      <td>Hyderabad</td>\n",
       "      <td>Rajasthan</td>\n",
       "      <td>Group</td>\n",
       "      <td>Hyderabad</td>\n",
       "      <td>Field</td>\n",
       "      <td>210</td>\n",
       "      <td>6</td>\n",
       "      <td>149</td>\n",
       "      <td>7</td>\n",
       "      <td>Rajasthan</td>\n",
       "      <td>Runs</td>\n",
       "      <td>61</td>\n",
       "      <td>Sanju Samson</td>\n",
       "      <td>Aiden Markram</td>\n",
       "      <td>57</td>\n",
       "      <td>Yuzvendra Chahal</td>\n",
       "      <td>3--22</td>\n",
       "    </tr>\n",
       "  </tbody>\n",
       "</table>\n",
       "</div>"
      ],
      "text/plain": [
       "   match_id           date                                         venue  \\\n",
       "0         1  March 26,2022                      Wankhede Stadium, Mumbai   \n",
       "1         2  March 27,2022                     Brabourne Stadium, Mumbai   \n",
       "2         3  March 27,2022            Dr DY Patil Sports Academy, Mumbai   \n",
       "3         4  March 28,2022                      Wankhede Stadium, Mumbai   \n",
       "4         5  March 29,2022  Maharashtra Cricket Association Stadium,Pune   \n",
       "\n",
       "       team1      team2  stage toss_winner toss_decision  first_ings_score  \\\n",
       "0    Chennai    Kolkata  Group     Kolkata         Field               131   \n",
       "1      Delhi     Mumbai  Group       Delhi         Field               177   \n",
       "2   Banglore     Punjab  Group      Punjab         Field               205   \n",
       "3    Gujarat    Lucknow  Group     Gujarat         Field               158   \n",
       "4  Hyderabad  Rajasthan  Group   Hyderabad         Field               210   \n",
       "\n",
       "   first_ings_wkts  second_ings_score  second_ings_wkts match_winner   won_by  \\\n",
       "0                5                133                 4      Kolkata  Wickets   \n",
       "1                5                179                 6        Delhi  Wickets   \n",
       "2                2                208                 5       Punjab  Wickets   \n",
       "3                6                161                 5      Gujarat  Wickets   \n",
       "4                6                149                 7    Rajasthan     Runs   \n",
       "\n",
       "   margin player_of_the_match      top_scorer  highscore      best_bowling  \\\n",
       "0       6         Umesh Yadav        MS Dhoni         50      Dwayne Bravo   \n",
       "1       4       Kuldeep Yadav    Ishan Kishan         81     Kuldeep Yadav   \n",
       "2       5         Odean Smith  Faf du Plessis         88    Mohammed Siraj   \n",
       "3       5      Mohammed Shami    Deepak Hooda         55    Mohammed Shami   \n",
       "4      61        Sanju Samson   Aiden Markram         57  Yuzvendra Chahal   \n",
       "\n",
       "  best_bowling_figure  \n",
       "0               3--20  \n",
       "1               3--18  \n",
       "2               2--59  \n",
       "3               3--25  \n",
       "4               3--22  "
      ]
     },
     "execution_count": 17,
     "metadata": {},
     "output_type": "execute_result"
    }
   ],
   "source": [
    "#10 best bowling figure\n",
    "df.head(\n",
    "    \n",
    ")"
   ]
  },
  {
   "cell_type": "code",
   "execution_count": 18,
   "id": "9e0b2394",
   "metadata": {},
   "outputs": [],
   "source": [
    "df['highest_wickets']= df['best_bowling_figure'].apply(lambda x:x.split('--')[0])\n",
    "df['highest_wickets']=df['highest_wickets'].astype(int)\n"
   ]
  },
  {
   "cell_type": "code",
   "execution_count": 20,
   "id": "81bbd415",
   "metadata": {},
   "outputs": [
    {
     "data": {
      "application/vnd.microsoft.datawrangler.viewer.v0+json": {
       "columns": [
        {
         "name": "best_bowling",
         "rawType": "object",
         "type": "string"
        },
        {
         "name": "highest_wickets",
         "rawType": "int32",
         "type": "integer"
        }
       ],
       "ref": "b410b9a9-c96e-41e1-889f-2c310f6631a2",
       "rows": [
        [
         "Yuzvendra Chahal",
         "17"
        ],
        [
         "Kuldeep Yadav",
         "11"
        ],
        [
         "Rashid Khan",
         "11"
        ],
        [
         "Jasprit Bumrah",
         "11"
        ],
        [
         "Avesh Khan",
         "10"
        ],
        [
         "Josh Hazlewood",
         "10"
        ],
        [
         "Kagiso Rabada",
         "10"
        ],
        [
         "Wanindu Hasaranga",
         "9"
        ],
        [
         "Umran Malik",
         "9"
        ],
        [
         "T Natarajan",
         "8"
        ]
       ],
       "shape": {
        "columns": 1,
        "rows": 10
       }
      },
      "text/plain": [
       "best_bowling\n",
       "Yuzvendra Chahal     17\n",
       "Kuldeep Yadav        11\n",
       "Rashid Khan          11\n",
       "Jasprit Bumrah       11\n",
       "Avesh Khan           10\n",
       "Josh Hazlewood       10\n",
       "Kagiso Rabada        10\n",
       "Wanindu Hasaranga     9\n",
       "Umran Malik           9\n",
       "T Natarajan           8\n",
       "Name: highest_wickets, dtype: int32"
      ]
     },
     "execution_count": 20,
     "metadata": {},
     "output_type": "execute_result"
    }
   ],
   "source": [
    "top_bowlers = df.groupby('best_bowling')['highest_wickets'].sum().sort_values(ascending=False).head(10)\n",
    "top_bowlers"
   ]
  },
  {
   "cell_type": "code",
   "execution_count": 21,
   "id": "5393d9df",
   "metadata": {},
   "outputs": [
    {
     "data": {
      "text/plain": [
       "<Axes: ylabel='best_bowling'>"
      ]
     },
     "execution_count": 21,
     "metadata": {},
     "output_type": "execute_result"
    },
    {
     "data": {
      "image/png": "[encoded data removed]",
      "text/plain": [
       "<Figure size 640x480 with 1 Axes>"
      ]
     },
     "metadata": {},
     "output_type": "display_data"
    }
   ],
   "source": [
    "top_bowlers.plot(kind='barh')"
   ]
  },
  {
   "cell_type": "code",
   "execution_count": 22,
   "id": "7027f690",
   "metadata": {},
   "outputs": [
    {
     "data": {
      "application/vnd.microsoft.datawrangler.viewer.v0+json": {
       "columns": [
        {
         "name": "index",
         "rawType": "int64",
         "type": "integer"
        },
        {
         "name": "match_winner",
         "rawType": "object",
         "type": "string"
        },
        {
         "name": "margin",
         "rawType": "int64",
         "type": "integer"
        }
       ],
       "ref": "a018490e-d4bc-4e02-890d-4000cadb30ea",
       "rows": [
        [
         "54",
         "Chennai",
         "91"
        ]
       ],
       "shape": {
        "columns": 2,
        "rows": 1
       }
      },
      "text/html": [
       "<div>\n",
       "<style scoped>\n",
       "    .dataframe tbody tr th:only-of-type {\n",
       "        vertical-align: middle;\n",
       "    }\n",
       "\n",
       "    .dataframe tbody tr th {\n",
       "        vertical-align: top;\n",
       "    }\n",
       "\n",
       "    .dataframe thead th {\n",
       "        text-align: right;\n",
       "    }\n",
       "</style>\n",
       "<table border=\"1\" class=\"dataframe\">\n",
       "  <thead>\n",
       "    <tr style=\"text-align: right;\">\n",
       "      <th></th>\n",
       "      <th>match_winner</th>\n",
       "      <th>margin</th>\n",
       "    </tr>\n",
       "  </thead>\n",
       "  <tbody>\n",
       "    <tr>\n",
       "      <th>54</th>\n",
       "      <td>Chennai</td>\n",
       "      <td>91</td>\n",
       "    </tr>\n",
       "  </tbody>\n",
       "</table>\n",
       "</div>"
      ],
      "text/plain": [
       "   match_winner  margin\n",
       "54      Chennai      91"
      ]
     },
     "execution_count": 22,
     "metadata": {},
     "output_type": "execute_result"
    }
   ],
   "source": [
    "#who won the highest margin by run\n",
    "df[df[\"won_by\"]==\"Runs\"].sort_values(by='margin',ascending=False).head(1)[['match_winner','margin']]"
   ]
  },
  {
   "cell_type": "code",
   "execution_count": 23,
   "id": "71c95d4b",
   "metadata": {},
   "outputs": [
    {
     "data": {
      "application/vnd.microsoft.datawrangler.viewer.v0+json": {
       "columns": [
        {
         "name": "index",
         "rawType": "int64",
         "type": "integer"
        },
        {
         "name": "top_scorer",
         "rawType": "object",
         "type": "string"
        },
        {
         "name": "highscore",
         "rawType": "int64",
         "type": "integer"
        }
       ],
       "ref": "769d215e-8bd0-44b1-8013-fd7111bbdcda",
       "rows": [
        [
         "65",
         "Quinton de Kock",
         "140"
        ]
       ],
       "shape": {
        "columns": 2,
        "rows": 1
       }
      },
      "text/html": [
       "<div>\n",
       "<style scoped>\n",
       "    .dataframe tbody tr th:only-of-type {\n",
       "        vertical-align: middle;\n",
       "    }\n",
       "\n",
       "    .dataframe tbody tr th {\n",
       "        vertical-align: top;\n",
       "    }\n",
       "\n",
       "    .dataframe thead th {\n",
       "        text-align: right;\n",
       "    }\n",
       "</style>\n",
       "<table border=\"1\" class=\"dataframe\">\n",
       "  <thead>\n",
       "    <tr style=\"text-align: right;\">\n",
       "      <th></th>\n",
       "      <th>top_scorer</th>\n",
       "      <th>highscore</th>\n",
       "    </tr>\n",
       "  </thead>\n",
       "  <tbody>\n",
       "    <tr>\n",
       "      <th>65</th>\n",
       "      <td>Quinton de Kock</td>\n",
       "      <td>140</td>\n",
       "    </tr>\n",
       "  </tbody>\n",
       "</table>\n",
       "</div>"
      ],
      "text/plain": [
       "         top_scorer  highscore\n",
       "65  Quinton de Kock        140"
      ]
     },
     "execution_count": 23,
     "metadata": {},
     "output_type": "execute_result"
    }
   ],
   "source": [
    "#which player had the highest individual score\n",
    "df[df['highscore']==df['highscore'].max()][['top_scorer','highscore']]"
   ]
  },
  {
   "cell_type": "code",
   "execution_count": 24,
   "id": "3b747f80",
   "metadata": {},
   "outputs": [
    {
     "data": {
      "application/vnd.microsoft.datawrangler.viewer.v0+json": {
       "columns": [
        {
         "name": "index",
         "rawType": "int64",
         "type": "integer"
        },
        {
         "name": "best_bowling",
         "rawType": "object",
         "type": "string"
        },
        {
         "name": "best_bowling_figure",
         "rawType": "object",
         "type": "string"
        }
       ],
       "ref": "eb7964cc-8410-4a01-965a-2d40df485cfc",
       "rows": [
        [
         "29",
         "Yuzvendra Chahal",
         "5--40"
        ],
        [
         "39",
         "Umran Malik",
         "5--25"
        ],
        [
         "53",
         "Wanindu Hasaranga",
         "5--18"
        ],
        [
         "55",
         "Jasprit Bumrah",
         "5--10"
        ]
       ],
       "shape": {
        "columns": 2,
        "rows": 4
       }
      },
      "text/html": [
       "<div>\n",
       "<style scoped>\n",
       "    .dataframe tbody tr th:only-of-type {\n",
       "        vertical-align: middle;\n",
       "    }\n",
       "\n",
       "    .dataframe tbody tr th {\n",
       "        vertical-align: top;\n",
       "    }\n",
       "\n",
       "    .dataframe thead th {\n",
       "        text-align: right;\n",
       "    }\n",
       "</style>\n",
       "<table border=\"1\" class=\"dataframe\">\n",
       "  <thead>\n",
       "    <tr style=\"text-align: right;\">\n",
       "      <th></th>\n",
       "      <th>best_bowling</th>\n",
       "      <th>best_bowling_figure</th>\n",
       "    </tr>\n",
       "  </thead>\n",
       "  <tbody>\n",
       "    <tr>\n",
       "      <th>29</th>\n",
       "      <td>Yuzvendra Chahal</td>\n",
       "      <td>5--40</td>\n",
       "    </tr>\n",
       "    <tr>\n",
       "      <th>39</th>\n",
       "      <td>Umran Malik</td>\n",
       "      <td>5--25</td>\n",
       "    </tr>\n",
       "    <tr>\n",
       "      <th>53</th>\n",
       "      <td>Wanindu Hasaranga</td>\n",
       "      <td>5--18</td>\n",
       "    </tr>\n",
       "    <tr>\n",
       "      <th>55</th>\n",
       "      <td>Jasprit Bumrah</td>\n",
       "      <td>5--10</td>\n",
       "    </tr>\n",
       "  </tbody>\n",
       "</table>\n",
       "</div>"
      ],
      "text/plain": [
       "         best_bowling best_bowling_figure\n",
       "29   Yuzvendra Chahal               5--40\n",
       "39        Umran Malik               5--25\n",
       "53  Wanindu Hasaranga               5--18\n",
       "55     Jasprit Bumrah               5--10"
      ]
     },
     "execution_count": 24,
     "metadata": {},
     "output_type": "execute_result"
    }
   ],
   "source": [
    "# Which bowler had the best bowling figures\n",
    "df[df['highest_wickets'] == df['highest_wickets'].max()][['best_bowling','best_bowling_figure']]"
   ]
  },
  {
   "cell_type": "code",
   "execution_count": null,
   "id": "a8e9d396",
   "metadata": {},
   "outputs": [],
   "source": []
  }
 ],
 "metadata": {
  "kernelspec": {
   "display_name": "base",
   "language": "python",
   "name": "python3"
  },
  "language_info": {
   "codemirror_mode": {
    "name": "ipython",
    "version": 3
   },
   "file_extension": ".py",
   "mimetype": "text/x-python",
   "name": "python",
   "nbconvert_exporter": "python",
   "pygments_lexer": "ipython3",
   "version": "3.12.7"
  }
 },
 "nbformat": 4,
 "nbformat_minor": 5
}
